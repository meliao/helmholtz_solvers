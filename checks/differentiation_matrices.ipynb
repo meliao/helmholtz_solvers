{
 "cells": [
  {
   "cell_type": "markdown",
   "metadata": {},
   "source": [
    "# Check differentiation matrices\n",
    "\n",
    "In this notebook, we want to verify the differentiation matrices constructed in the `LeafNode` object are working correctly. "
   ]
  },
  {
   "cell_type": "code",
   "execution_count": 1,
   "metadata": {},
   "outputs": [],
   "source": [
    "import torch\n",
    "import numpy as np\n",
    "import sys\n",
    "import matplotlib.pyplot as plt\n",
    "from scipy.interpolate import LinearNDInterpolator\n",
    "# I have to do this because I'm running the notebook in the checks/ directory\n",
    "sys.path.append('..')"
   ]
  },
  {
   "cell_type": "code",
   "execution_count": 2,
   "metadata": {},
   "outputs": [],
   "source": [
    "%load_ext autoreload\n",
    "%autoreload 2\n"
   ]
  },
  {
   "cell_type": "code",
   "execution_count": 3,
   "metadata": {},
   "outputs": [],
   "source": [
    "\n",
    "from src.hps.interior_solution import LeafNode\n",
    "from src.utils import differentiation_matrix_1d, chebyshev_points, points_to_2d_lst_of_points, get_incident_plane_waves"
   ]
  },
  {
   "cell_type": "markdown",
   "metadata": {},
   "source": [
    "### Set up geometric information about the local grid, as well as a simple scattering object"
   ]
  },
  {
   "cell_type": "code",
   "execution_count": 4,
   "metadata": {},
   "outputs": [],
   "source": [
    "DOMAIN_MAX = 4.0\n",
    "N_CHEB_PTS = 50\n",
    "N_GAUSS_PTS = 50\n",
    "UPPER_LEFT_X = -DOMAIN_MAX\n",
    "UPPER_LEFT_Y = DOMAIN_MAX\n"
   ]
  },
  {
   "cell_type": "code",
   "execution_count": 5,
   "metadata": {},
   "outputs": [],
   "source": [
    "x = torch.linspace(-DOMAIN_MAX, DOMAIN_MAX, N_CHEB_PTS)\n",
    "pts_lst = points_to_2d_lst_of_points(x)\n",
    "radii = torch.linalg.norm(pts_lst, axis=1)\n",
    "\n",
    "scattering_obj = 1e-04 * (torch.exp(-1 * radii))\n",
    "obj_for_plt = scattering_obj.numpy().reshape(N_CHEB_PTS, N_CHEB_PTS)"
   ]
  },
  {
   "cell_type": "markdown",
   "metadata": {},
   "source": [
    "## Set up LeafNode cell"
   ]
  },
  {
   "cell_type": "code",
   "execution_count": 6,
   "metadata": {},
   "outputs": [
    {
     "name": "stdout",
     "output_type": "stream",
     "text": [
      "norm_factor:  1\n"
     ]
    }
   ],
   "source": [
    "omega_val = 2 * np.pi * 4\n",
    "l = LeafNode(half_side_len=DOMAIN_MAX, \n",
    "             n_cheb_pts=N_CHEB_PTS, \n",
    "             n_gauss_pts=N_GAUSS_PTS, \n",
    "             upper_left_x=UPPER_LEFT_X, \n",
    "             upper_left_y=UPPER_LEFT_Y, \n",
    "             omega=omega_val, \n",
    "             q=scattering_obj, \n",
    "             sample_points=pts_lst)"
   ]
  },
  {
   "cell_type": "markdown",
   "metadata": {},
   "source": [
    "A few ways to test `l.D_x` and `l.D_y`\n",
    " - Constant vector applied to either of these matrices should be 0.\n",
    " - Something constant in a single direction should evaluate to 0 for one differentiation matrix, and nonzero for the other matrix.\n",
    " - second derivative of $\\sin(x)$ is $-\\sin(x)$.\n",
    "\n"
   ]
  },
  {
   "cell_type": "markdown",
   "metadata": {},
   "source": [
    "## Constant vector\n"
   ]
  },
  {
   "cell_type": "code",
   "execution_count": 7,
   "metadata": {},
   "outputs": [
    {
     "name": "stdout",
     "output_type": "stream",
     "text": [
      "torch.float64\n",
      "torch.float64\n"
     ]
    }
   ],
   "source": [
    "# Make a constant vector u\n",
    "u = torch.ones(N_CHEB_PTS**2).to(torch.float64)\n",
    "print(u.dtype)\n",
    "print(l.D_x.dtype)\n",
    "\n",
    "# Compute D_x u\n",
    "D_x_u = l.D_x @ u\n",
    "\n",
    "# Compute D_y u\n",
    "D_y_u = l.D_y @ u"
   ]
  },
  {
   "cell_type": "code",
   "execution_count": 8,
   "metadata": {},
   "outputs": [
    {
     "name": "stdout",
     "output_type": "stream",
     "text": [
      "tensor(1.3331e-10, dtype=torch.float64)\n",
      "tensor(9.4827e-11, dtype=torch.float64)\n"
     ]
    }
   ],
   "source": [
    "print(torch.linalg.norm(D_x_u))\n",
    "print(torch.linalg.norm(D_y_u))"
   ]
  },
  {
   "cell_type": "markdown",
   "metadata": {},
   "source": [
    "## Constant in x, y\n"
   ]
  },
  {
   "cell_type": "code",
   "execution_count": 9,
   "metadata": {},
   "outputs": [],
   "source": [
    "# Make this sin_const so that the evaluations have 1 period no matter the domain size\n",
    "# sin_const = np.pi / DOMAIN_MAX\n",
    "sin_const = 1\n",
    "def const_in_x(pts_lst: torch.Tensor) -> torch.Tensor:\n",
    "    \"\"\"pts_lst has shape (N, 2).\n",
    "    Output has shape (N,)\n",
    "    \"\"\"\n",
    "    return torch.sin( sin_const * pts_lst[:, 1])\n",
    "\n",
    "def const_in_y(pts_lst: torch.Tensor) -> torch.Tensor:\n",
    "    \"\"\"pts_lst has shape (N, 2).\n",
    "    Output has shape (N,)\n",
    "    \"\"\"\n",
    "    return torch.sin(sin_const * pts_lst[:, 0])\n",
    "    "
   ]
  },
  {
   "cell_type": "code",
   "execution_count": 10,
   "metadata": {},
   "outputs": [],
   "source": [
    "v_const_in_x = const_in_x(l.cheby_quad_obj.points_lst).to(torch.float64)\n",
    "v_const_in_y = const_in_y(l.cheby_quad_obj.points_lst).to(torch.float64)\n",
    "\n",
    "\n",
    "# Compute D_x v_const_in_x\n",
    "out_0 = l.D_x @ v_const_in_x / (sin_const) ** 2\n",
    "out_1 = l.D_y @ v_const_in_x / (sin_const) ** 2\n",
    "\n"
   ]
  },
  {
   "cell_type": "code",
   "execution_count": 11,
   "metadata": {},
   "outputs": [
    {
     "name": "stdout",
     "output_type": "stream",
     "text": [
      "tensor(8.5159e-11, dtype=torch.float64)\n",
      "tensor(32.3012, dtype=torch.float64)\n"
     ]
    }
   ],
   "source": [
    "print(torch.linalg.norm(out_0))\n",
    "print(torch.linalg.norm(out_1))\n"
   ]
  },
  {
   "cell_type": "code",
   "execution_count": 12,
   "metadata": {},
   "outputs": [
    {
     "name": "stdout",
     "output_type": "stream",
     "text": [
      "tensor(32.3012, dtype=torch.float64)\n",
      "tensor(7.4594e-11, dtype=torch.float64)\n"
     ]
    }
   ],
   "source": [
    "out_2 = l.D_x @ v_const_in_y / (sin_const) ** 2\n",
    "out_3 = l.D_y @ v_const_in_y / (sin_const) ** 2\n",
    "print(torch.linalg.norm(out_2))\n",
    "print(torch.linalg.norm(out_3))\n"
   ]
  },
  {
   "cell_type": "code",
   "execution_count": 13,
   "metadata": {},
   "outputs": [
    {
     "name": "stdout",
     "output_type": "stream",
     "text": [
      "tensor(1.2827e-10, dtype=torch.float64)\n",
      "tensor(8.9715e-11, dtype=torch.float64)\n"
     ]
    }
   ],
   "source": [
    "# Out_2 should be  -1 * v_cosnt_in_y\n",
    "print(torch.linalg.norm(out_2 + v_const_in_y))\n",
    "\n",
    "# Out_1 should be -1 * v_const_in_x\n",
    "print(torch.linalg.norm(out_1 + v_const_in_x))"
   ]
  },
  {
   "cell_type": "code",
   "execution_count": 14,
   "metadata": {},
   "outputs": [],
   "source": [
    "v_const_in_x_reg = l.cheby_quad_obj.interp_from_2d_points(pts_lst, v_const_in_x)\n",
    "\n",
    "out_1_reg = l.cheby_quad_obj.interp_from_2d_points(pts_lst, out_1)"
   ]
  },
  {
   "cell_type": "code",
   "execution_count": 15,
   "metadata": {},
   "outputs": [
    {
     "name": "stdout",
     "output_type": "stream",
     "text": [
      "torch.Size([50, 50])\n"
     ]
    },
    {
     "data": {
      "text/plain": [
       "<matplotlib.colorbar.Colorbar at 0x7f334f1b2b30>"
      ]
     },
     "execution_count": 15,
     "metadata": {},
     "output_type": "execute_result"
    },
    {
     "data": {
      "image/png": "[encoded data removed]",
      "text/plain": [
       "<Figure size 640x480 with 2 Axes>"
      ]
     },
     "metadata": {},
     "output_type": "display_data"
    }
   ],
   "source": [
    "print(v_const_in_x_reg.shape)\n",
    "\n",
    "plt.imshow(v_const_in_x_reg.numpy().reshape(N_CHEB_PTS, N_CHEB_PTS))\n",
    "plt.colorbar()"
   ]
  },
  {
   "cell_type": "code",
   "execution_count": 16,
   "metadata": {},
   "outputs": [
    {
     "data": {
      "text/plain": [
       "<matplotlib.colorbar.Colorbar at 0x7f333cae3340>"
      ]
     },
     "execution_count": 16,
     "metadata": {},
     "output_type": "execute_result"
    },
    {
     "data": {
      "image/png": "[encoded data removed]",
      "text/plain": [
       "<Figure size 640x480 with 2 Axes>"
      ]
     },
     "metadata": {},
     "output_type": "display_data"
    }
   ],
   "source": [
    "plt.imshow(out_1_reg.numpy().reshape(N_CHEB_PTS, N_CHEB_PTS))\n",
    "plt.colorbar()"
   ]
  },
  {
   "cell_type": "code",
   "execution_count": null,
   "metadata": {},
   "outputs": [],
   "source": []
  },
  {
   "cell_type": "code",
   "execution_count": 17,
   "metadata": {},
   "outputs": [],
   "source": [
    "out_4 = l.D_y_single @ v_const_in_x"
   ]
  },
  {
   "cell_type": "code",
   "execution_count": 18,
   "metadata": {},
   "outputs": [
    {
     "data": {
      "image/png": "[encoded data removed]",
      "text/plain": [
       "<Figure size 640x480 with 2 Axes>"
      ]
     },
     "metadata": {},
     "output_type": "display_data"
    }
   ],
   "source": [
    "out_4_reg = l.cheby_quad_obj.interp_from_2d_points(pts_lst, out_4)\n",
    "\n",
    "plt.imshow(out_4_reg.numpy().reshape(N_CHEB_PTS, N_CHEB_PTS))\n",
    "plt.colorbar()\n",
    "plt.show()"
   ]
  }
 ],
 "metadata": {
  "kernelspec": {
   "display_name": "pytorch_new",
   "language": "python",
   "name": "python3"
  },
  "language_info": {
   "codemirror_mode": {
    "name": "ipython",
    "version": 3
   },
   "file_extension": ".py",
   "mimetype": "text/x-python",
   "name": "python",
   "nbconvert_exporter": "python",
   "pygments_lexer": "ipython3",
   "version": "3.10.13"
  }
 },
 "nbformat": 4,
 "nbformat_minor": 2
}
