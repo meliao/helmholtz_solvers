{
 "cells": [
  {
   "cell_type": "markdown",
   "metadata": {},
   "source": [
    "# Check differentiation matrices\n",
    "\n",
    "In this notebook, we want to verify the differentiation matrices constructed in the `LeafNode` object are working correctly. "
   ]
  },
  {
   "cell_type": "code",
   "execution_count": 1,
   "metadata": {},
   "outputs": [],
   "source": [
    "import torch\n",
    "import numpy as np\n",
    "import sys\n",
    "import matplotlib.pyplot as plt\n",
    "from scipy.interpolate import LinearNDInterpolator\n",
    "# I have to do this because I'm running the notebook in the checks/ directory\n",
    "sys.path.append('..')"
   ]
  },
  {
   "cell_type": "code",
   "execution_count": 2,
   "metadata": {},
   "outputs": [],
   "source": [
    "%load_ext autoreload\n",
    "%autoreload 2\n"
   ]
  },
  {
   "cell_type": "code",
   "execution_count": 3,
   "metadata": {},
   "outputs": [],
   "source": [
    "\n",
    "from src.hps.interior_solution import LeafNode\n",
    "from src.utils import differentiation_matrix_1d, chebyshev_points, points_to_2d_lst_of_points, get_incident_plane_waves"
   ]
  },
  {
   "cell_type": "markdown",
   "metadata": {},
   "source": [
    "### Set up geometric information about the local grid, as well as a simple scattering object"
   ]
  },
  {
   "cell_type": "code",
   "execution_count": 4,
   "metadata": {},
   "outputs": [],
   "source": [
    "DOMAIN_MAX = 0.5\n",
    "N_CHEB_PTS = 50\n",
    "N_GAUSS_PTS = 50\n",
    "UPPER_LEFT_X = -0.5\n",
    "UPPER_LEFT_Y = 0.5\n"
   ]
  },
  {
   "cell_type": "code",
   "execution_count": 5,
   "metadata": {},
   "outputs": [],
   "source": [
    "x = torch.linspace(-DOMAIN_MAX, DOMAIN_MAX, N_CHEB_PTS)\n",
    "pts_lst = points_to_2d_lst_of_points(x)\n",
    "radii = torch.linalg.norm(pts_lst, axis=1)\n",
    "\n",
    "scattering_obj = 1e-04 * (torch.exp(-1 * radii))\n",
    "obj_for_plt = scattering_obj.numpy().reshape(N_CHEB_PTS, N_CHEB_PTS)"
   ]
  },
  {
   "cell_type": "markdown",
   "metadata": {},
   "source": [
    "## Set up LeafNode cell"
   ]
  },
  {
   "cell_type": "code",
   "execution_count": 7,
   "metadata": {},
   "outputs": [],
   "source": [
    "omega_val = 2 * np.pi * 4\n",
    "l = LeafNode(DOMAIN_MAX, N_CHEB_PTS, N_GAUSS_PTS, UPPER_LEFT_X, UPPER_LEFT_Y, omega_val, scattering_obj, pts_lst)"
   ]
  },
  {
   "cell_type": "markdown",
   "metadata": {},
   "source": [
    "A few ways to test `l.D_x` and `l.D_y`\n",
    " - Constant vector applied to either of these matrices should be 0.\n",
    " - Something constant in a single direction should evaluate to 0 for one differentiation matrix, and nonzero for the other matrix.\n",
    " - second derivative of $\\sin(x)$ is $-\\sin(x)$.\n",
    "\n"
   ]
  }
 ],
 "metadata": {
  "kernelspec": {
   "display_name": "pytorch_new",
   "language": "python",
   "name": "python3"
  },
  "language_info": {
   "codemirror_mode": {
    "name": "ipython",
    "version": 3
   },
   "file_extension": ".py",
   "mimetype": "text/x-python",
   "name": "python",
   "nbconvert_exporter": "python",
   "pygments_lexer": "ipython3",
   "version": "3.10.8"
  }
 },
 "nbformat": 4,
 "nbformat_minor": 2
}
